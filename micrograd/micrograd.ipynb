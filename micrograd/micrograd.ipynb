{
 "cells": [
  {
   "cell_type": "code",
   "execution_count": 1,
   "metadata": {},
   "outputs": [],
   "source": [
    "import math\n",
    "import numpy as np\n",
    "import matplotlib.pyplot as plt"
   ]
  },
  {
   "cell_type": "code",
   "execution_count": 2,
   "metadata": {},
   "outputs": [
    {
     "data": {
      "text/plain": [
       "-3"
      ]
     },
     "execution_count": 2,
     "metadata": {},
     "output_type": "execute_result"
    }
   ],
   "source": [
    "# We define any function, using mathematical terms to better understand the underlyings\n",
    "def f(x):\n",
    "    return x**2 - 4*x \n",
    "\n",
    "# Return any value \n",
    "f(3)"
   ]
  },
  {
   "cell_type": "code",
   "execution_count": 3,
   "metadata": {},
   "outputs": [
    {
     "name": "stdout",
     "output_type": "stream",
     "text": [
      "xs: [-5.   -4.75 -4.5  -4.25 -4.   -3.75 -3.5  -3.25 -3.   -2.75 -2.5  -2.25\n",
      " -2.   -1.75 -1.5  -1.25 -1.   -0.75 -0.5  -0.25  0.    0.25  0.5   0.75\n",
      "  1.    1.25  1.5   1.75  2.    2.25  2.5   2.75  3.    3.25  3.5   3.75\n",
      "  4.    4.25  4.5   4.75] \n",
      "\n",
      "ys: [45.     41.5625 38.25   35.0625 32.     29.0625 26.25   23.5625 21.\n",
      " 18.5625 16.25   14.0625 12.     10.0625  8.25    6.5625  5.      3.5625\n",
      "  2.25    1.0625  0.     -0.9375 -1.75   -2.4375 -3.     -3.4375 -3.75\n",
      " -3.9375 -4.     -3.9375 -3.75   -3.4375 -3.     -2.4375 -1.75   -0.9375\n",
      "  0.      1.0625  2.25    3.5625]\n"
     ]
    }
   ],
   "source": [
    "# We define our x array using arange\n",
    "# Will go from [-5 to 5) in intervals of .25\n",
    "xs = np.arange(-5, 5, 0.25)\n",
    "\n",
    "# We can pass the array to our function to get our set of ys\n",
    "ys = f(xs)\n",
    "\n",
    "print(f\"xs: {xs} \\n\")\n",
    "print(f\"ys: {ys}\")"
   ]
  },
  {
   "cell_type": "code",
   "execution_count": 4,
   "metadata": {},
   "outputs": [
    {
     "data": {
      "text/plain": [
       "[<matplotlib.lines.Line2D at 0x7fafd88e08b0>]"
      ]
     },
     "execution_count": 4,
     "metadata": {},
     "output_type": "execute_result"
    },
    {
     "data": {
      "image/png": "[encoded data removed]",
      "text/plain": [
       "<Figure size 640x480 with 1 Axes>"
      ]
     },
     "metadata": {},
     "output_type": "display_data"
    }
   ],
   "source": [
    "# Lets plot the function\n",
    "plt.plot(xs, ys)"
   ]
  },
  {
   "cell_type": "markdown",
   "metadata": {},
   "source": [
    "Lets introduce the concept of derivate:\n",
    "\n",
    "```math\n",
    "\\frac{d}{dx} f(x) = \\lim_{h \\to 0} \\frac{f(x+h)-f(x)}{h}\n",
    "```\n",
    "\n",
    "- x is the input value\n",
    "- h is an infinitesimally small change in x (approaching zero)\n",
    "\n",
    "The derivative represents the rate of change of the function at a given point, which can be thought of as the \"instantaneous\" speed at which the output changes when the input changes.\n",
    "\n",
    "In simple terms, we increment the input x $f(x + h)$, then we compare it with the actual value $- f(x)$ and finally we normalice the change $/h$"
   ]
  },
  {
   "cell_type": "code",
   "execution_count": 5,
   "metadata": {},
   "outputs": [
    {
     "data": {
      "text/plain": [
       "-2.666666563122533"
      ]
     },
     "execution_count": 5,
     "metadata": {},
     "output_type": "execute_result"
    }
   ],
   "source": [
    "# Lets compute the derivative of our function using the formula\n",
    "h = 0.0000001 # Remember it tends to 0\n",
    "x = 2/3\n",
    "(f(x+h)-f(x))/h"
   ]
  },
  {
   "cell_type": "code",
   "execution_count": 6,
   "metadata": {},
   "outputs": [
    {
     "data": {
      "text/plain": [
       "Value(data=-6.222222222222222)"
      ]
     },
     "execution_count": 6,
     "metadata": {},
     "output_type": "execute_result"
    }
   ],
   "source": [
    "# We will declare a Value class, which will help us in the future determine which value changed\n",
    "# the other value that made it change, and the operator of the change\n",
    "class Value:\n",
    "    def __init__(self, data, children=(), operator=\"\", label = \"\") -> None:\n",
    "        self.data = data\n",
    "        self._prev = set(children)\n",
    "        self._op = operator\n",
    "        self.grad = 0.0\n",
    "        self.label = label\n",
    "    \n",
    "    def __repr__(self) -> str:\n",
    "        return f\"Value(data={self.data})\"\n",
    "    \n",
    "    # Helper to ensure operands are of Value type\n",
    "    def _ensure_value(self, other):\n",
    "        return other if isinstance(other, Value) else Value(other)\n",
    "    \n",
    "    # Addition\n",
    "    def __add__(self, other):\n",
    "        other = self._ensure_value(other)\n",
    "        return Value(self.data + other.data, children=(self, other), operator='+')\n",
    "\n",
    "    def __radd__(self, other):\n",
    "        # This is called when Value is on the right and int/float is on the left\n",
    "        return self + other\n",
    "\n",
    "    # Subtraction\n",
    "    def __sub__(self, other):\n",
    "        other = self._ensure_value(other)\n",
    "        return Value(self.data - other.data, children=(self, other), operator='-')\n",
    "\n",
    "    def __rsub__(self, other):\n",
    "        # This is called when Value is on the right and int/float is on the left\n",
    "        return Value(other) - self\n",
    "    \n",
    "    # Multiplication\n",
    "    def __mul__(self, other):\n",
    "        other = self._ensure_value(other)\n",
    "        return Value(self.data * other.data, children=(self, other), operator='*')\n",
    "\n",
    "    def __rmul__(self, other):\n",
    "        # This is called when Value is on the right and int/float is on the left\n",
    "        return self * other\n",
    "\n",
    "    # Division\n",
    "    def __truediv__(self, other):\n",
    "        other = self._ensure_value(other)\n",
    "        if other.data == 0:\n",
    "            raise ZeroDivisionError(\"Cannot divide by zero\")\n",
    "        return Value(self.data / other.data, children=(self, other), operator='/')\n",
    "\n",
    "    def __rtruediv__(self, other):\n",
    "        # This is called when Value is on the right and int/float is on the left\n",
    "        return Value(other) / self\n",
    "\n",
    "    # Exponentiation\n",
    "    def __pow__(self, other):\n",
    "        other = self._ensure_value(other)\n",
    "        return Value(self.data ** other.data, children=(self, other), operator='**')\n",
    "\n",
    "    def __rpow__(self, other):\n",
    "        # This is called when Value is on the right and int/float is on the left\n",
    "        return Value(other) ** self\n",
    "    \n",
    "    # Hyperbolic Tangent (Tanh)\n",
    "    def __tanh__(self):\n",
    "        return Value((math.exp(self.data) - math.exp(-self.data)) / (math.exp(self.data) + math.exp(-self.data)), children=(self,), operator='tanh')\n",
    "\n",
    "\n",
    "\n",
    "    \n",
    "a = Value(2.0)\n",
    "b = Value(-3.0)\n",
    "a*b - a/b**2"
   ]
  },
  {
   "cell_type": "code",
   "execution_count": 7,
   "metadata": {},
   "outputs": [
    {
     "data": {
      "text/plain": [
       "Value(data=-7.999999898089527)"
      ]
     },
     "execution_count": 7,
     "metadata": {},
     "output_type": "execute_result"
    }
   ],
   "source": [
    "# Lets create a helper function for derivatives\n",
    "def compute_derivative(x):\n",
    "    h = Value(0.0000001)\n",
    "    return (f(x+h) - f(x))/h\n",
    "\n",
    "val = Value(-2.0)\n",
    "compute_derivative(val)"
   ]
  },
  {
   "cell_type": "markdown",
   "metadata": {},
   "source": [
    "The 'gradient' is a multivariable generalization of the derivative. While a derivative can be defined only for single-variable functions, for functions of multiple variables, the gradient takes its place. The gradient is a vector-valued function, unlike a derivative, which is a scalar-valued function.\n",
    "\n",
    "For example, if we have a function `f(x,y)` that depends on two variables `x` and `y`, the gradient would be:\n",
    "\n",
    "$$\\nabla f(x,y) = \\left[\\frac{\\partial f}{\\partial x}, \\frac{\\partial f}{\\partial y}\\right] \n",
    "\n",
    " = \\left[\\frac{\\partial f(x,y)}{\\partial x}, \\frac{\\partial f(x,y)}{\\partial y}\\right]$$\n",
    "\n"
   ]
  },
  {
   "cell_type": "markdown",
   "metadata": {},
   "source": [
    "The 'chain rule' is a formula that expresses the derivative of the composition of two differentiable functions.\n",
    "\n",
    "$$\\frac{dz}{dx} = \\frac{dz}{dy}\\cdot\\frac{dy}{dx}$$\n"
   ]
  },
  {
   "cell_type": "markdown",
   "metadata": {},
   "source": [
    "Backpropagation is a fundamental algorith that leverages the chain rule in order to calculate the gradients of a loss function with respect to a set of parameters (or NN weights). Later, they will be used to minimice this loss function and train the NN.\n",
    "\n",
    "We will now create a function to draw nodes representing operations (or weigths) and manually backpropagete their respective gradients."
   ]
  },
  {
   "cell_type": "code",
   "execution_count": 8,
   "metadata": {},
   "outputs": [],
   "source": [
    "# Lets create a funtion to represent visualy backprop and gradients\n",
    "from graphviz import Digraph\n",
    "\n",
    "def trace(root):\n",
    "  # builds a set of all nodes and edges in a graph\n",
    "  nodes, edges = set(), set()\n",
    "  def build(v):\n",
    "    if v not in nodes:\n",
    "      nodes.add(v)\n",
    "      for child in v._prev:\n",
    "        edges.add((child, v))\n",
    "        build(child)\n",
    "  build(root)\n",
    "  return nodes, edges\n",
    "\n",
    "def draw_dot(root):\n",
    "  dot = Digraph(format='svg', graph_attr={'rankdir': 'LR'}) # LR = left to right\n",
    "  \n",
    "  nodes, edges = trace(root)\n",
    "  for n in nodes:\n",
    "    uid = str(id(n))\n",
    "    # for any value in the graph, create a rectangular ('record') node for it\n",
    "    dot.node(name = uid, label = \"{ %s | data %.4f | grad %.4f }\" % (n.label, n.data, n.grad), shape='record')\n",
    "    if n._op:\n",
    "      # if this value is a result of some operation, create an op node for it\n",
    "      dot.node(name = uid + n._op, label = n._op)\n",
    "      # and connect this node to it\n",
    "      dot.edge(uid + n._op, uid)\n",
    "\n",
    "  for n1, n2 in edges:\n",
    "    # connect n1 to the op node of n2\n",
    "    dot.edge(str(id(n1)), str(id(n2)) + n2._op)\n",
    "\n",
    "  return dot"
   ]
  },
  {
   "cell_type": "code",
   "execution_count": 9,
   "metadata": {},
   "outputs": [
    {
     "data": {
      "image/svg+xml": [
       "<?xml version=\"1.0\" encoding=\"UTF-8\" standalone=\"no\"?>\n",
       "<!DOCTYPE svg PUBLIC \"-//W3C//DTD SVG 1.1//EN\"\n",
       " \"http://www.w3.org/Graphics/SVG/1.1/DTD/svg11.dtd\">\n",
       "<!-- Generated by graphviz version 2.43.0 (0)\n",
       " -->\n",
       "<!-- Title: %3 Pages: 1 -->\n",
       "<svg width=\"1068pt\" height=\"127pt\"\n",
       " viewBox=\"0.00 0.00 1068.00 127.00\" xmlns=\"http://www.w3.org/2000/svg\" xmlns:xlink=\"http://www.w3.org/1999/xlink\">\n",
       "<g id=\"graph0\" class=\"graph\" transform=\"scale(1 1) rotate(0) translate(4 123)\">\n",
       "<title>%3</title>\n",
       "<polygon fill=\"white\" stroke=\"transparent\" points=\"-4,4 -4,-123 1064,-123 1064,4 -4,4\"/>\n",
       "<!-- 140393228006400 -->\n",
       "<g id=\"node1\" class=\"node\">\n",
       "<title>140393228006400</title>\n",
       "<polygon fill=\"none\" stroke=\"black\" points=\"776,-54.5 776,-90.5 1060,-90.5 1060,-54.5 776,-54.5\"/>\n",
       "<text text-anchor=\"middle\" x=\"808\" y=\"-68.8\" font-family=\"Times,serif\" font-size=\"14.00\">output</text>\n",
       "<polyline fill=\"none\" stroke=\"black\" points=\"840,-54.5 840,-90.5 \"/>\n",
       "<text text-anchor=\"middle\" x=\"898\" y=\"-68.8\" font-family=\"Times,serif\" font-size=\"14.00\">data &#45;24.0000</text>\n",
       "<polyline fill=\"none\" stroke=\"black\" points=\"956,-54.5 956,-90.5 \"/>\n",
       "<text text-anchor=\"middle\" x=\"1008\" y=\"-68.8\" font-family=\"Times,serif\" font-size=\"14.00\">grad 0.0000</text>\n",
       "</g>\n",
       "<!-- 140393228006400* -->\n",
       "<g id=\"node2\" class=\"node\">\n",
       "<title>140393228006400*</title>\n",
       "<ellipse fill=\"none\" stroke=\"black\" cx=\"713\" cy=\"-72.5\" rx=\"27\" ry=\"18\"/>\n",
       "<text text-anchor=\"middle\" x=\"713\" y=\"-68.8\" font-family=\"Times,serif\" font-size=\"14.00\">*</text>\n",
       "</g>\n",
       "<!-- 140393228006400*&#45;&gt;140393228006400 -->\n",
       "<g id=\"edge1\" class=\"edge\">\n",
       "<title>140393228006400*&#45;&gt;140393228006400</title>\n",
       "<path fill=\"none\" stroke=\"black\" d=\"M740.12,-72.5C747.59,-72.5 756.31,-72.5 765.8,-72.5\"/>\n",
       "<polygon fill=\"black\" stroke=\"black\" points=\"765.95,-76 775.95,-72.5 765.95,-69 765.95,-76\"/>\n",
       "</g>\n",
       "<!-- 140393227993632 -->\n",
       "<g id=\"node3\" class=\"node\">\n",
       "<title>140393227993632</title>\n",
       "<polygon fill=\"none\" stroke=\"black\" points=\"416,-82.5 416,-118.5 648,-118.5 648,-82.5 416,-82.5\"/>\n",
       "<text text-anchor=\"middle\" x=\"429\" y=\"-96.8\" font-family=\"Times,serif\" font-size=\"14.00\">b</text>\n",
       "<polyline fill=\"none\" stroke=\"black\" points=\"442,-82.5 442,-118.5 \"/>\n",
       "<text text-anchor=\"middle\" x=\"493\" y=\"-96.8\" font-family=\"Times,serif\" font-size=\"14.00\">data 3.0000</text>\n",
       "<polyline fill=\"none\" stroke=\"black\" points=\"544,-82.5 544,-118.5 \"/>\n",
       "<text text-anchor=\"middle\" x=\"596\" y=\"-96.8\" font-family=\"Times,serif\" font-size=\"14.00\">grad 0.0000</text>\n",
       "</g>\n",
       "<!-- 140393227993632&#45;&gt;140393228006400* -->\n",
       "<g id=\"edge3\" class=\"edge\">\n",
       "<title>140393227993632&#45;&gt;140393228006400*</title>\n",
       "<path fill=\"none\" stroke=\"black\" d=\"M648.13,-82.49C658.27,-80.91 667.92,-79.4 676.51,-78.05\"/>\n",
       "<polygon fill=\"black\" stroke=\"black\" points=\"677.09,-81.5 686.43,-76.5 676.01,-74.59 677.09,-81.5\"/>\n",
       "</g>\n",
       "<!-- 140393227995744 -->\n",
       "<g id=\"node4\" class=\"node\">\n",
       "<title>140393227995744</title>\n",
       "<polygon fill=\"none\" stroke=\"black\" points=\"7,-55.5 7,-91.5 281,-91.5 281,-55.5 7,-55.5\"/>\n",
       "<text text-anchor=\"middle\" x=\"41\" y=\"-69.8\" font-family=\"Times,serif\" font-size=\"14.00\">input 1</text>\n",
       "<polyline fill=\"none\" stroke=\"black\" points=\"75,-55.5 75,-91.5 \"/>\n",
       "<text text-anchor=\"middle\" x=\"126\" y=\"-69.8\" font-family=\"Times,serif\" font-size=\"14.00\">data 2.0000</text>\n",
       "<polyline fill=\"none\" stroke=\"black\" points=\"177,-55.5 177,-91.5 \"/>\n",
       "<text text-anchor=\"middle\" x=\"229\" y=\"-69.8\" font-family=\"Times,serif\" font-size=\"14.00\">grad 0.0000</text>\n",
       "</g>\n",
       "<!-- 140393228000880+ -->\n",
       "<g id=\"node7\" class=\"node\">\n",
       "<title>140393228000880+</title>\n",
       "<ellipse fill=\"none\" stroke=\"black\" cx=\"351\" cy=\"-45.5\" rx=\"27\" ry=\"18\"/>\n",
       "<text text-anchor=\"middle\" x=\"351\" y=\"-41.8\" font-family=\"Times,serif\" font-size=\"14.00\">+</text>\n",
       "</g>\n",
       "<!-- 140393227995744&#45;&gt;140393228000880+ -->\n",
       "<g id=\"edge4\" class=\"edge\">\n",
       "<title>140393227995744&#45;&gt;140393228000880+</title>\n",
       "<path fill=\"none\" stroke=\"black\" d=\"M276.86,-55.49C290.52,-53.62 303.43,-51.86 314.48,-50.35\"/>\n",
       "<polygon fill=\"black\" stroke=\"black\" points=\"315.05,-53.81 324.48,-48.99 314.1,-46.87 315.05,-53.81\"/>\n",
       "</g>\n",
       "<!-- 140393227994736 -->\n",
       "<g id=\"node5\" class=\"node\">\n",
       "<title>140393227994736</title>\n",
       "<polygon fill=\"none\" stroke=\"black\" points=\"0,-0.5 0,-36.5 288,-36.5 288,-0.5 0,-0.5\"/>\n",
       "<text text-anchor=\"middle\" x=\"34\" y=\"-14.8\" font-family=\"Times,serif\" font-size=\"14.00\">input 2</text>\n",
       "<polyline fill=\"none\" stroke=\"black\" points=\"68,-0.5 68,-36.5 \"/>\n",
       "<text text-anchor=\"middle\" x=\"126\" y=\"-14.8\" font-family=\"Times,serif\" font-size=\"14.00\">data &#45;10.0000</text>\n",
       "<polyline fill=\"none\" stroke=\"black\" points=\"184,-0.5 184,-36.5 \"/>\n",
       "<text text-anchor=\"middle\" x=\"236\" y=\"-14.8\" font-family=\"Times,serif\" font-size=\"14.00\">grad 0.0000</text>\n",
       "</g>\n",
       "<!-- 140393227994736&#45;&gt;140393228000880+ -->\n",
       "<g id=\"edge5\" class=\"edge\">\n",
       "<title>140393227994736&#45;&gt;140393228000880+</title>\n",
       "<path fill=\"none\" stroke=\"black\" d=\"M281.74,-36.51C293.37,-38.04 304.34,-39.49 313.94,-40.75\"/>\n",
       "<polygon fill=\"black\" stroke=\"black\" points=\"313.79,-44.26 324.16,-42.1 314.71,-37.32 313.79,-44.26\"/>\n",
       "</g>\n",
       "<!-- 140393228000880 -->\n",
       "<g id=\"node6\" class=\"node\">\n",
       "<title>140393228000880</title>\n",
       "<polygon fill=\"none\" stroke=\"black\" points=\"414,-27.5 414,-63.5 650,-63.5 650,-27.5 414,-27.5\"/>\n",
       "<text text-anchor=\"middle\" x=\"426.5\" y=\"-41.8\" font-family=\"Times,serif\" font-size=\"14.00\">a</text>\n",
       "<polyline fill=\"none\" stroke=\"black\" points=\"439,-27.5 439,-63.5 \"/>\n",
       "<text text-anchor=\"middle\" x=\"492.5\" y=\"-41.8\" font-family=\"Times,serif\" font-size=\"14.00\">data &#45;8.0000</text>\n",
       "<polyline fill=\"none\" stroke=\"black\" points=\"546,-27.5 546,-63.5 \"/>\n",
       "<text text-anchor=\"middle\" x=\"598\" y=\"-41.8\" font-family=\"Times,serif\" font-size=\"14.00\">grad 0.0000</text>\n",
       "</g>\n",
       "<!-- 140393228000880&#45;&gt;140393228006400* -->\n",
       "<g id=\"edge6\" class=\"edge\">\n",
       "<title>140393228000880&#45;&gt;140393228006400*</title>\n",
       "<path fill=\"none\" stroke=\"black\" d=\"M650.15,-63.17C659.53,-64.58 668.46,-65.93 676.46,-67.14\"/>\n",
       "<polygon fill=\"black\" stroke=\"black\" points=\"676.01,-70.61 686.42,-68.64 677.06,-63.69 676.01,-70.61\"/>\n",
       "</g>\n",
       "<!-- 140393228000880+&#45;&gt;140393228000880 -->\n",
       "<g id=\"edge2\" class=\"edge\">\n",
       "<title>140393228000880+&#45;&gt;140393228000880</title>\n",
       "<path fill=\"none\" stroke=\"black\" d=\"M378.03,-45.5C385.58,-45.5 394.38,-45.5 403.87,-45.5\"/>\n",
       "<polygon fill=\"black\" stroke=\"black\" points=\"403.99,-49 413.99,-45.5 403.99,-42 403.99,-49\"/>\n",
       "</g>\n",
       "</g>\n",
       "</svg>\n"
      ],
      "text/plain": [
       "<graphviz.graphs.Digraph at 0x7fafd87bf3d0>"
      ]
     },
     "execution_count": 9,
     "metadata": {},
     "output_type": "execute_result"
    }
   ],
   "source": [
    "# Lets initialice our graph with default gradients\n",
    "input_1 = Value(data=2.00, label=\"input 1\")\n",
    "input_2 = Value(data=-10.00, label=\"input 2\")\n",
    "a = input_1+input_2\n",
    "a.label = \"a\"\n",
    "b = Value(data=3.00, label=\"b\")\n",
    "output = a * b \n",
    "output.label=\"output\"\n",
    "draw_dot(output)"
   ]
  },
  {
   "cell_type": "markdown",
   "metadata": {},
   "source": [
    "First case is simple:\n",
    "$$\\frac{dout}{da} = \\frac{d(a*b)}{da} = b$$\n",
    "\n",
    "Same thing for b:\n",
    "$$\\frac{dout}{db} = \\frac{d(a*b)}{db} = a$$\n"
   ]
  },
  {
   "cell_type": "code",
   "execution_count": 10,
   "metadata": {},
   "outputs": [
    {
     "data": {
      "image/svg+xml": [
       "<?xml version=\"1.0\" encoding=\"UTF-8\" standalone=\"no\"?>\n",
       "<!DOCTYPE svg PUBLIC \"-//W3C//DTD SVG 1.1//EN\"\n",
       " \"http://www.w3.org/Graphics/SVG/1.1/DTD/svg11.dtd\">\n",
       "<!-- Generated by graphviz version 2.43.0 (0)\n",
       " -->\n",
       "<!-- Title: %3 Pages: 1 -->\n",
       "<svg width=\"1068pt\" height=\"127pt\"\n",
       " viewBox=\"0.00 0.00 1068.00 127.00\" xmlns=\"http://www.w3.org/2000/svg\" xmlns:xlink=\"http://www.w3.org/1999/xlink\">\n",
       "<g id=\"graph0\" class=\"graph\" transform=\"scale(1 1) rotate(0) translate(4 123)\">\n",
       "<title>%3</title>\n",
       "<polygon fill=\"white\" stroke=\"transparent\" points=\"-4,4 -4,-123 1064,-123 1064,4 -4,4\"/>\n",
       "<!-- 140393228006400 -->\n",
       "<g id=\"node1\" class=\"node\">\n",
       "<title>140393228006400</title>\n",
       "<polygon fill=\"none\" stroke=\"black\" points=\"776,-54.5 776,-90.5 1060,-90.5 1060,-54.5 776,-54.5\"/>\n",
       "<text text-anchor=\"middle\" x=\"808\" y=\"-68.8\" font-family=\"Times,serif\" font-size=\"14.00\">output</text>\n",
       "<polyline fill=\"none\" stroke=\"black\" points=\"840,-54.5 840,-90.5 \"/>\n",
       "<text text-anchor=\"middle\" x=\"898\" y=\"-68.8\" font-family=\"Times,serif\" font-size=\"14.00\">data &#45;24.0000</text>\n",
       "<polyline fill=\"none\" stroke=\"black\" points=\"956,-54.5 956,-90.5 \"/>\n",
       "<text text-anchor=\"middle\" x=\"1008\" y=\"-68.8\" font-family=\"Times,serif\" font-size=\"14.00\">grad 0.0000</text>\n",
       "</g>\n",
       "<!-- 140393228006400* -->\n",
       "<g id=\"node2\" class=\"node\">\n",
       "<title>140393228006400*</title>\n",
       "<ellipse fill=\"none\" stroke=\"black\" cx=\"713\" cy=\"-72.5\" rx=\"27\" ry=\"18\"/>\n",
       "<text text-anchor=\"middle\" x=\"713\" y=\"-68.8\" font-family=\"Times,serif\" font-size=\"14.00\">*</text>\n",
       "</g>\n",
       "<!-- 140393228006400*&#45;&gt;140393228006400 -->\n",
       "<g id=\"edge1\" class=\"edge\">\n",
       "<title>140393228006400*&#45;&gt;140393228006400</title>\n",
       "<path fill=\"none\" stroke=\"black\" d=\"M740.12,-72.5C747.59,-72.5 756.31,-72.5 765.8,-72.5\"/>\n",
       "<polygon fill=\"black\" stroke=\"black\" points=\"765.95,-76 775.95,-72.5 765.95,-69 765.95,-76\"/>\n",
       "</g>\n",
       "<!-- 140393227993632 -->\n",
       "<g id=\"node3\" class=\"node\">\n",
       "<title>140393227993632</title>\n",
       "<polygon fill=\"none\" stroke=\"black\" points=\"414,-82.5 414,-118.5 650,-118.5 650,-82.5 414,-82.5\"/>\n",
       "<text text-anchor=\"middle\" x=\"427\" y=\"-96.8\" font-family=\"Times,serif\" font-size=\"14.00\">b</text>\n",
       "<polyline fill=\"none\" stroke=\"black\" points=\"440,-82.5 440,-118.5 \"/>\n",
       "<text text-anchor=\"middle\" x=\"491\" y=\"-96.8\" font-family=\"Times,serif\" font-size=\"14.00\">data 3.0000</text>\n",
       "<polyline fill=\"none\" stroke=\"black\" points=\"542,-82.5 542,-118.5 \"/>\n",
       "<text text-anchor=\"middle\" x=\"596\" y=\"-96.8\" font-family=\"Times,serif\" font-size=\"14.00\">grad &#45;8.0000</text>\n",
       "</g>\n",
       "<!-- 140393227993632&#45;&gt;140393228006400* -->\n",
       "<g id=\"edge3\" class=\"edge\">\n",
       "<title>140393227993632&#45;&gt;140393228006400*</title>\n",
       "<path fill=\"none\" stroke=\"black\" d=\"M648.13,-82.49C658.27,-80.91 667.92,-79.4 676.51,-78.05\"/>\n",
       "<polygon fill=\"black\" stroke=\"black\" points=\"677.09,-81.5 686.43,-76.5 676.01,-74.59 677.09,-81.5\"/>\n",
       "</g>\n",
       "<!-- 140393227995744 -->\n",
       "<g id=\"node4\" class=\"node\">\n",
       "<title>140393227995744</title>\n",
       "<polygon fill=\"none\" stroke=\"black\" points=\"7,-55.5 7,-91.5 281,-91.5 281,-55.5 7,-55.5\"/>\n",
       "<text text-anchor=\"middle\" x=\"41\" y=\"-69.8\" font-family=\"Times,serif\" font-size=\"14.00\">input 1</text>\n",
       "<polyline fill=\"none\" stroke=\"black\" points=\"75,-55.5 75,-91.5 \"/>\n",
       "<text text-anchor=\"middle\" x=\"126\" y=\"-69.8\" font-family=\"Times,serif\" font-size=\"14.00\">data 2.0000</text>\n",
       "<polyline fill=\"none\" stroke=\"black\" points=\"177,-55.5 177,-91.5 \"/>\n",
       "<text text-anchor=\"middle\" x=\"229\" y=\"-69.8\" font-family=\"Times,serif\" font-size=\"14.00\">grad 0.0000</text>\n",
       "</g>\n",
       "<!-- 140393228000880+ -->\n",
       "<g id=\"node7\" class=\"node\">\n",
       "<title>140393228000880+</title>\n",
       "<ellipse fill=\"none\" stroke=\"black\" cx=\"351\" cy=\"-45.5\" rx=\"27\" ry=\"18\"/>\n",
       "<text text-anchor=\"middle\" x=\"351\" y=\"-41.8\" font-family=\"Times,serif\" font-size=\"14.00\">+</text>\n",
       "</g>\n",
       "<!-- 140393227995744&#45;&gt;140393228000880+ -->\n",
       "<g id=\"edge4\" class=\"edge\">\n",
       "<title>140393227995744&#45;&gt;140393228000880+</title>\n",
       "<path fill=\"none\" stroke=\"black\" d=\"M276.86,-55.49C290.52,-53.62 303.43,-51.86 314.48,-50.35\"/>\n",
       "<polygon fill=\"black\" stroke=\"black\" points=\"315.05,-53.81 324.48,-48.99 314.1,-46.87 315.05,-53.81\"/>\n",
       "</g>\n",
       "<!-- 140393227994736 -->\n",
       "<g id=\"node5\" class=\"node\">\n",
       "<title>140393227994736</title>\n",
       "<polygon fill=\"none\" stroke=\"black\" points=\"0,-0.5 0,-36.5 288,-36.5 288,-0.5 0,-0.5\"/>\n",
       "<text text-anchor=\"middle\" x=\"34\" y=\"-14.8\" font-family=\"Times,serif\" font-size=\"14.00\">input 2</text>\n",
       "<polyline fill=\"none\" stroke=\"black\" points=\"68,-0.5 68,-36.5 \"/>\n",
       "<text text-anchor=\"middle\" x=\"126\" y=\"-14.8\" font-family=\"Times,serif\" font-size=\"14.00\">data &#45;10.0000</text>\n",
       "<polyline fill=\"none\" stroke=\"black\" points=\"184,-0.5 184,-36.5 \"/>\n",
       "<text text-anchor=\"middle\" x=\"236\" y=\"-14.8\" font-family=\"Times,serif\" font-size=\"14.00\">grad 0.0000</text>\n",
       "</g>\n",
       "<!-- 140393227994736&#45;&gt;140393228000880+ -->\n",
       "<g id=\"edge5\" class=\"edge\">\n",
       "<title>140393227994736&#45;&gt;140393228000880+</title>\n",
       "<path fill=\"none\" stroke=\"black\" d=\"M281.74,-36.51C293.37,-38.04 304.34,-39.49 313.94,-40.75\"/>\n",
       "<polygon fill=\"black\" stroke=\"black\" points=\"313.79,-44.26 324.16,-42.1 314.71,-37.32 313.79,-44.26\"/>\n",
       "</g>\n",
       "<!-- 140393228000880 -->\n",
       "<g id=\"node6\" class=\"node\">\n",
       "<title>140393228000880</title>\n",
       "<polygon fill=\"none\" stroke=\"black\" points=\"414,-27.5 414,-63.5 650,-63.5 650,-27.5 414,-27.5\"/>\n",
       "<text text-anchor=\"middle\" x=\"426.5\" y=\"-41.8\" font-family=\"Times,serif\" font-size=\"14.00\">a</text>\n",
       "<polyline fill=\"none\" stroke=\"black\" points=\"439,-27.5 439,-63.5 \"/>\n",
       "<text text-anchor=\"middle\" x=\"492.5\" y=\"-41.8\" font-family=\"Times,serif\" font-size=\"14.00\">data &#45;8.0000</text>\n",
       "<polyline fill=\"none\" stroke=\"black\" points=\"546,-27.5 546,-63.5 \"/>\n",
       "<text text-anchor=\"middle\" x=\"598\" y=\"-41.8\" font-family=\"Times,serif\" font-size=\"14.00\">grad 3.0000</text>\n",
       "</g>\n",
       "<!-- 140393228000880&#45;&gt;140393228006400* -->\n",
       "<g id=\"edge6\" class=\"edge\">\n",
       "<title>140393228000880&#45;&gt;140393228006400*</title>\n",
       "<path fill=\"none\" stroke=\"black\" d=\"M650.15,-63.17C659.53,-64.58 668.46,-65.93 676.46,-67.14\"/>\n",
       "<polygon fill=\"black\" stroke=\"black\" points=\"676.01,-70.61 686.42,-68.64 677.06,-63.69 676.01,-70.61\"/>\n",
       "</g>\n",
       "<!-- 140393228000880+&#45;&gt;140393228000880 -->\n",
       "<g id=\"edge2\" class=\"edge\">\n",
       "<title>140393228000880+&#45;&gt;140393228000880</title>\n",
       "<path fill=\"none\" stroke=\"black\" d=\"M378.03,-45.5C385.58,-45.5 394.38,-45.5 403.87,-45.5\"/>\n",
       "<polygon fill=\"black\" stroke=\"black\" points=\"403.99,-49 413.99,-45.5 403.99,-42 403.99,-49\"/>\n",
       "</g>\n",
       "</g>\n",
       "</svg>\n"
      ],
      "text/plain": [
       "<graphviz.graphs.Digraph at 0x7fafd87bc550>"
      ]
     },
     "execution_count": 10,
     "metadata": {},
     "output_type": "execute_result"
    }
   ],
   "source": [
    "a.grad = b.data\n",
    "b.grad = a.data\n",
    "draw_dot(output)"
   ]
  },
  {
   "cell_type": "markdown",
   "metadata": {},
   "source": [
    "Second node, we have to apply the chain rule case:\n",
    "$$\\frac{dout}{din1} = \\frac{dout}{da}*\\frac{da}{din1} = b*\\frac{d(in1+in2)}{din1}=b*1$$"
   ]
  },
  {
   "cell_type": "code",
   "execution_count": 11,
   "metadata": {},
   "outputs": [
    {
     "data": {
      "image/svg+xml": [
       "<?xml version=\"1.0\" encoding=\"UTF-8\" standalone=\"no\"?>\n",
       "<!DOCTYPE svg PUBLIC \"-//W3C//DTD SVG 1.1//EN\"\n",
       " \"http://www.w3.org/Graphics/SVG/1.1/DTD/svg11.dtd\">\n",
       "<!-- Generated by graphviz version 2.43.0 (0)\n",
       " -->\n",
       "<!-- Title: %3 Pages: 1 -->\n",
       "<svg width=\"1068pt\" height=\"127pt\"\n",
       " viewBox=\"0.00 0.00 1068.00 127.00\" xmlns=\"http://www.w3.org/2000/svg\" xmlns:xlink=\"http://www.w3.org/1999/xlink\">\n",
       "<g id=\"graph0\" class=\"graph\" transform=\"scale(1 1) rotate(0) translate(4 123)\">\n",
       "<title>%3</title>\n",
       "<polygon fill=\"white\" stroke=\"transparent\" points=\"-4,4 -4,-123 1064,-123 1064,4 -4,4\"/>\n",
       "<!-- 140393228006400 -->\n",
       "<g id=\"node1\" class=\"node\">\n",
       "<title>140393228006400</title>\n",
       "<polygon fill=\"none\" stroke=\"black\" points=\"776,-54.5 776,-90.5 1060,-90.5 1060,-54.5 776,-54.5\"/>\n",
       "<text text-anchor=\"middle\" x=\"808\" y=\"-68.8\" font-family=\"Times,serif\" font-size=\"14.00\">output</text>\n",
       "<polyline fill=\"none\" stroke=\"black\" points=\"840,-54.5 840,-90.5 \"/>\n",
       "<text text-anchor=\"middle\" x=\"898\" y=\"-68.8\" font-family=\"Times,serif\" font-size=\"14.00\">data &#45;24.0000</text>\n",
       "<polyline fill=\"none\" stroke=\"black\" points=\"956,-54.5 956,-90.5 \"/>\n",
       "<text text-anchor=\"middle\" x=\"1008\" y=\"-68.8\" font-family=\"Times,serif\" font-size=\"14.00\">grad 0.0000</text>\n",
       "</g>\n",
       "<!-- 140393228006400* -->\n",
       "<g id=\"node2\" class=\"node\">\n",
       "<title>140393228006400*</title>\n",
       "<ellipse fill=\"none\" stroke=\"black\" cx=\"713\" cy=\"-72.5\" rx=\"27\" ry=\"18\"/>\n",
       "<text text-anchor=\"middle\" x=\"713\" y=\"-68.8\" font-family=\"Times,serif\" font-size=\"14.00\">*</text>\n",
       "</g>\n",
       "<!-- 140393228006400*&#45;&gt;140393228006400 -->\n",
       "<g id=\"edge1\" class=\"edge\">\n",
       "<title>140393228006400*&#45;&gt;140393228006400</title>\n",
       "<path fill=\"none\" stroke=\"black\" d=\"M740.12,-72.5C747.59,-72.5 756.31,-72.5 765.8,-72.5\"/>\n",
       "<polygon fill=\"black\" stroke=\"black\" points=\"765.95,-76 775.95,-72.5 765.95,-69 765.95,-76\"/>\n",
       "</g>\n",
       "<!-- 140393227993632 -->\n",
       "<g id=\"node3\" class=\"node\">\n",
       "<title>140393227993632</title>\n",
       "<polygon fill=\"none\" stroke=\"black\" points=\"414,-82.5 414,-118.5 650,-118.5 650,-82.5 414,-82.5\"/>\n",
       "<text text-anchor=\"middle\" x=\"427\" y=\"-96.8\" font-family=\"Times,serif\" font-size=\"14.00\">b</text>\n",
       "<polyline fill=\"none\" stroke=\"black\" points=\"440,-82.5 440,-118.5 \"/>\n",
       "<text text-anchor=\"middle\" x=\"491\" y=\"-96.8\" font-family=\"Times,serif\" font-size=\"14.00\">data 3.0000</text>\n",
       "<polyline fill=\"none\" stroke=\"black\" points=\"542,-82.5 542,-118.5 \"/>\n",
       "<text text-anchor=\"middle\" x=\"596\" y=\"-96.8\" font-family=\"Times,serif\" font-size=\"14.00\">grad &#45;8.0000</text>\n",
       "</g>\n",
       "<!-- 140393227993632&#45;&gt;140393228006400* -->\n",
       "<g id=\"edge3\" class=\"edge\">\n",
       "<title>140393227993632&#45;&gt;140393228006400*</title>\n",
       "<path fill=\"none\" stroke=\"black\" d=\"M648.13,-82.49C658.27,-80.91 667.92,-79.4 676.51,-78.05\"/>\n",
       "<polygon fill=\"black\" stroke=\"black\" points=\"677.09,-81.5 686.43,-76.5 676.01,-74.59 677.09,-81.5\"/>\n",
       "</g>\n",
       "<!-- 140393227995744 -->\n",
       "<g id=\"node4\" class=\"node\">\n",
       "<title>140393227995744</title>\n",
       "<polygon fill=\"none\" stroke=\"black\" points=\"7,-55.5 7,-91.5 281,-91.5 281,-55.5 7,-55.5\"/>\n",
       "<text text-anchor=\"middle\" x=\"41\" y=\"-69.8\" font-family=\"Times,serif\" font-size=\"14.00\">input 1</text>\n",
       "<polyline fill=\"none\" stroke=\"black\" points=\"75,-55.5 75,-91.5 \"/>\n",
       "<text text-anchor=\"middle\" x=\"126\" y=\"-69.8\" font-family=\"Times,serif\" font-size=\"14.00\">data 2.0000</text>\n",
       "<polyline fill=\"none\" stroke=\"black\" points=\"177,-55.5 177,-91.5 \"/>\n",
       "<text text-anchor=\"middle\" x=\"229\" y=\"-69.8\" font-family=\"Times,serif\" font-size=\"14.00\">grad 3.0000</text>\n",
       "</g>\n",
       "<!-- 140393228000880+ -->\n",
       "<g id=\"node7\" class=\"node\">\n",
       "<title>140393228000880+</title>\n",
       "<ellipse fill=\"none\" stroke=\"black\" cx=\"351\" cy=\"-45.5\" rx=\"27\" ry=\"18\"/>\n",
       "<text text-anchor=\"middle\" x=\"351\" y=\"-41.8\" font-family=\"Times,serif\" font-size=\"14.00\">+</text>\n",
       "</g>\n",
       "<!-- 140393227995744&#45;&gt;140393228000880+ -->\n",
       "<g id=\"edge4\" class=\"edge\">\n",
       "<title>140393227995744&#45;&gt;140393228000880+</title>\n",
       "<path fill=\"none\" stroke=\"black\" d=\"M276.86,-55.49C290.52,-53.62 303.43,-51.86 314.48,-50.35\"/>\n",
       "<polygon fill=\"black\" stroke=\"black\" points=\"315.05,-53.81 324.48,-48.99 314.1,-46.87 315.05,-53.81\"/>\n",
       "</g>\n",
       "<!-- 140393227994736 -->\n",
       "<g id=\"node5\" class=\"node\">\n",
       "<title>140393227994736</title>\n",
       "<polygon fill=\"none\" stroke=\"black\" points=\"0,-0.5 0,-36.5 288,-36.5 288,-0.5 0,-0.5\"/>\n",
       "<text text-anchor=\"middle\" x=\"34\" y=\"-14.8\" font-family=\"Times,serif\" font-size=\"14.00\">input 2</text>\n",
       "<polyline fill=\"none\" stroke=\"black\" points=\"68,-0.5 68,-36.5 \"/>\n",
       "<text text-anchor=\"middle\" x=\"126\" y=\"-14.8\" font-family=\"Times,serif\" font-size=\"14.00\">data &#45;10.0000</text>\n",
       "<polyline fill=\"none\" stroke=\"black\" points=\"184,-0.5 184,-36.5 \"/>\n",
       "<text text-anchor=\"middle\" x=\"236\" y=\"-14.8\" font-family=\"Times,serif\" font-size=\"14.00\">grad 3.0000</text>\n",
       "</g>\n",
       "<!-- 140393227994736&#45;&gt;140393228000880+ -->\n",
       "<g id=\"edge5\" class=\"edge\">\n",
       "<title>140393227994736&#45;&gt;140393228000880+</title>\n",
       "<path fill=\"none\" stroke=\"black\" d=\"M281.74,-36.51C293.37,-38.04 304.34,-39.49 313.94,-40.75\"/>\n",
       "<polygon fill=\"black\" stroke=\"black\" points=\"313.79,-44.26 324.16,-42.1 314.71,-37.32 313.79,-44.26\"/>\n",
       "</g>\n",
       "<!-- 140393228000880 -->\n",
       "<g id=\"node6\" class=\"node\">\n",
       "<title>140393228000880</title>\n",
       "<polygon fill=\"none\" stroke=\"black\" points=\"414,-27.5 414,-63.5 650,-63.5 650,-27.5 414,-27.5\"/>\n",
       "<text text-anchor=\"middle\" x=\"426.5\" y=\"-41.8\" font-family=\"Times,serif\" font-size=\"14.00\">a</text>\n",
       "<polyline fill=\"none\" stroke=\"black\" points=\"439,-27.5 439,-63.5 \"/>\n",
       "<text text-anchor=\"middle\" x=\"492.5\" y=\"-41.8\" font-family=\"Times,serif\" font-size=\"14.00\">data &#45;8.0000</text>\n",
       "<polyline fill=\"none\" stroke=\"black\" points=\"546,-27.5 546,-63.5 \"/>\n",
       "<text text-anchor=\"middle\" x=\"598\" y=\"-41.8\" font-family=\"Times,serif\" font-size=\"14.00\">grad 3.0000</text>\n",
       "</g>\n",
       "<!-- 140393228000880&#45;&gt;140393228006400* -->\n",
       "<g id=\"edge6\" class=\"edge\">\n",
       "<title>140393228000880&#45;&gt;140393228006400*</title>\n",
       "<path fill=\"none\" stroke=\"black\" d=\"M650.15,-63.17C659.53,-64.58 668.46,-65.93 676.46,-67.14\"/>\n",
       "<polygon fill=\"black\" stroke=\"black\" points=\"676.01,-70.61 686.42,-68.64 677.06,-63.69 676.01,-70.61\"/>\n",
       "</g>\n",
       "<!-- 140393228000880+&#45;&gt;140393228000880 -->\n",
       "<g id=\"edge2\" class=\"edge\">\n",
       "<title>140393228000880+&#45;&gt;140393228000880</title>\n",
       "<path fill=\"none\" stroke=\"black\" d=\"M378.03,-45.5C385.58,-45.5 394.38,-45.5 403.87,-45.5\"/>\n",
       "<polygon fill=\"black\" stroke=\"black\" points=\"403.99,-49 413.99,-45.5 403.99,-42 403.99,-49\"/>\n",
       "</g>\n",
       "</g>\n",
       "</svg>\n"
      ],
      "text/plain": [
       "<graphviz.graphs.Digraph at 0x7fafd87bca90>"
      ]
     },
     "execution_count": 11,
     "metadata": {},
     "output_type": "execute_result"
    }
   ],
   "source": [
    "input_1.grad = b.data\n",
    "input_2.grad = b.data\n",
    "draw_dot(output)"
   ]
  },
  {
   "cell_type": "markdown",
   "metadata": {},
   "source": [
    "The next step will be to dive into a single Neuron schema.\n",
    "\n",
    "A neuron in a neural network receives multiple inputs, each associated with a weight $w_{k1} ,w_{k2} , …$ along with a bias term $b$. It first computes a weighted sum of the inputs and the bias, combining them linearly. After this, the neuron applies an activation function, which introduces non-linearity into the system. This non-linearity is crucial, as it allows the network to learn and model more complex patterns beyond simple linear relationships."
   ]
  },
  {
   "cell_type": "markdown",
   "metadata": {},
   "source": [
    "![My Image](../resources/neuron_schema.png \"Image Description\")\n"
   ]
  },
  {
   "cell_type": "markdown",
   "metadata": {},
   "source": [
    "As the activation function, we will be using the hiperbolic tangent, which equals to:\n",
    "\n",
    "$$\\text{tanh}(x) = \\frac{e^x - e^{-x}}{e^x + e^{-x}}$$\n"
   ]
  },
  {
   "cell_type": "code",
   "execution_count": 16,
   "metadata": {},
   "outputs": [
    {
     "data": {
      "text/plain": [
       "[<matplotlib.lines.Line2D at 0x7fafd658ce80>]"
      ]
     },
     "execution_count": 16,
     "metadata": {},
     "output_type": "execute_result"
    },
    {
     "data": {
      "image/png": "[encoded data removed]",
      "text/plain": [
       "<Figure size 640x480 with 1 Axes>"
      ]
     },
     "metadata": {},
     "output_type": "display_data"
    }
   ],
   "source": [
    "# Lets plot the tanh function\n",
    "xs = np.arange(-5, 5, 0.2)\n",
    "ys = np.tanh(xs)\n",
    "plt.plot(xs, ys)"
   ]
  }
 ],
 "metadata": {
  "kernelspec": {
   "display_name": ".venv",
   "language": "python",
   "name": "python3"
  },
  "language_info": {
   "codemirror_mode": {
    "name": "ipython",
    "version": 3
   },
   "file_extension": ".py",
   "mimetype": "text/x-python",
   "name": "python",
   "nbconvert_exporter": "python",
   "pygments_lexer": "ipython3",
   "version": "3.10.12"
  }
 },
 "nbformat": 4,
 "nbformat_minor": 2
}
